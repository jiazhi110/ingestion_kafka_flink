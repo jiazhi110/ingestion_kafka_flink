{
 "cells": [
  {
   "cell_type": "code",
   "execution_count": 10,
   "metadata": {},
   "outputs": [
    {
     "name": "stdout",
     "output_type": "stream",
     "text": [
      "{'date': 1563321600000, 'action_time': 1563321602000, 'session_id': '26070e87-1ad7-49a3-8fb3-cc741facaddf', 'search_keyword': '手机', 'order_category_ids': '\\\\N', 'order_product_ids': '\\\\N', 'pay_category_ids': '\\\\N', 'pay_product_ids': '\\\\N', 'user_id': 95, 'page_id': 37, 'click_category_id': -1, 'click_product_id': -1, 'city_id': 3}\n",
      "{'date': 1563321600000, 'action_time': 1563321610000, 'session_id': '26070e87-1ad7-49a3-8fb3-cc741facaddf', 'search_keyword': '\\\\N', 'order_category_ids': '\\\\N', 'order_product_ids': '\\\\N', 'pay_category_ids': '\\\\N', 'pay_product_ids': '\\\\N', 'user_id': 95, 'page_id': 48, 'click_category_id': 16, 'click_product_id': 98, 'city_id': 19}\n",
      "{'date': 1563321600000, 'action_time': 1563321617000, 'session_id': '26070e87-1ad7-49a3-8fb3-cc741facaddf', 'search_keyword': '\\\\N', 'order_category_ids': '\\\\N', 'order_product_ids': '\\\\N', 'pay_category_ids': '\\\\N', 'pay_product_ids': '\\\\N', 'user_id': 95, 'page_id': 6, 'click_category_id': 19, 'click_product_id': 85, 'city_id': 7}\n",
      "{'date': 1563321600000, 'action_time': 1563321619000, 'session_id': '6502cdc9-cf95-4b08-8854-f03a25baa917', 'search_keyword': '\\\\N', 'order_category_ids': '\\\\N', 'order_product_ids': '\\\\N', 'pay_category_ids': '\\\\N', 'pay_product_ids': '\\\\N', 'user_id': 38, 'page_id': 29, 'click_category_id': 12, 'click_product_id': 36, 'city_id': 5}\n",
      "{'date': 1563321600000, 'action_time': 1563321628000, 'session_id': '6502cdc9-cf95-4b08-8854-f03a25baa917', 'search_keyword': '\\\\N', 'order_category_ids': '\\\\N', 'order_product_ids': '\\\\N', 'pay_category_ids': '15,1,20,6,4', 'pay_product_ids': '15,88,75', 'user_id': 38, 'page_id': 22, 'click_category_id': -1, 'click_product_id': -1, 'city_id': 9}\n",
      "{'date': 1563321600000, 'action_time': 1563321629000, 'session_id': '6502cdc9-cf95-4b08-8854-f03a25baa917', 'search_keyword': '苹果', 'order_category_ids': '\\\\N', 'order_product_ids': '\\\\N', 'pay_category_ids': '\\\\N', 'pay_product_ids': '\\\\N', 'user_id': 38, 'page_id': 11, 'click_category_id': -1, 'click_product_id': -1, 'city_id': 7}\n",
      "{'date': 1563321600000, 'action_time': 1563321638000, 'session_id': '6502cdc9-cf95-4b08-8854-f03a25baa917', 'search_keyword': '\\\\N', 'order_category_ids': '15,13,5,11,8', 'order_product_ids': '99,2', 'pay_category_ids': '\\\\N', 'pay_product_ids': '\\\\N', 'user_id': 38, 'page_id': 24, 'click_category_id': -1, 'click_product_id': -1, 'city_id': 10}\n",
      "{'date': 1563321600000, 'action_time': 1563321648000, 'session_id': '6502cdc9-cf95-4b08-8854-f03a25baa917', 'search_keyword': '\\\\N', 'order_category_ids': '\\\\N', 'order_product_ids': '\\\\N', 'pay_category_ids': '\\\\N', 'pay_product_ids': '\\\\N', 'user_id': 38, 'page_id': 24, 'click_category_id': 19, 'click_product_id': 44, 'city_id': 4}\n",
      "{'date': 1563321600000, 'action_time': 1563321654000, 'session_id': '6502cdc9-cf95-4b08-8854-f03a25baa917', 'search_keyword': '\\\\N', 'order_category_ids': '\\\\N', 'order_product_ids': '\\\\N', 'pay_category_ids': '\\\\N', 'pay_product_ids': '\\\\N', 'user_id': 38, 'page_id': 47, 'click_category_id': 14, 'click_product_id': 79, 'city_id': 2}\n",
      "{'date': 1563321600000, 'action_time': 1563321659000, 'session_id': '6502cdc9-cf95-4b08-8854-f03a25baa917', 'search_keyword': '\\\\N', 'order_category_ids': '\\\\N', 'order_product_ids': '\\\\N', 'pay_category_ids': '\\\\N', 'pay_product_ids': '\\\\N', 'user_id': 38, 'page_id': 27, 'click_category_id': 3, 'click_product_id': 50, 'city_id': 26}\n"
     ]
    }
   ],
   "source": [
    "import pandas as pd\n",
    "\n",
    "column_names = [\n",
    "    'date',\n",
    "    'user_id',\n",
    "    'session_id',\n",
    "    'page_id',\n",
    "    'action_time',\n",
    "    'search_keyword',\n",
    "    'click_category_id',\n",
    "    'click_product_id',\n",
    "    'order_category_ids',\n",
    "    'order_product_ids',\n",
    "    'pay_category_ids',\n",
    "    'pay_product_ids',\n",
    "    'city_id'\n",
    "]\n",
    "\n",
    "#read fake data with pandas csv\n",
    "user_visit_action_df = pd.read_csv(\"../test_data/user_visit_action.txt\", sep=\"\\t\", header=None, names=column_names)\n",
    "\n",
    "# user_visit_action_df.head()\n",
    "\n",
    "# user_visit_action_df.info()\n",
    "\n",
    "each_action_dfs = user_visit_action_df.head(10)\n",
    "\n",
    "df = pd.DataFrame()\n",
    "\n",
    "#transform date\n",
    "df['date'] = pd.to_datetime(each_action_dfs['date'], errors='coerce').astype('int64') // 10**6\n",
    "df['action_time'] = pd.to_datetime(each_action_dfs['action_time'], errors='coerce').astype('int64') // 10**6\n",
    "\n",
    "#transform string\n",
    "str_fields = [\n",
    "    'session_id', 'search_keyword', 'order_category_ids',\n",
    "    'order_product_ids', 'pay_category_ids', 'pay_product_ids'\n",
    "]\n",
    "\n",
    "for field in str_fields:\n",
    "    df[field] = each_action_dfs[field].astype('string')\n",
    "\n",
    "#transform int\n",
    "int_fields = ['user_id', 'page_id', 'click_category_id', 'click_product_id', 'city_id']\n",
    "\n",
    "# 这一句的意义是 —— 到这里你已经没有 NaN了（因为填了 -1），所以就可以放心转换为 int 类型。\n",
    "for field in int_fields:\n",
    "    df[field] = pd.to_numeric(each_action_dfs[field], errors='coerce').fillna(-1).astype('int')\n",
    "\n",
    "events = df.to_dict(orient='records')\n",
    "\n",
    "for event in events:\n",
    "    print(event)\n",
    "\n",
    "# print(df)"
   ]
  }
 ],
 "metadata": {
  "kernelspec": {
   "display_name": "venv-ingestion",
   "language": "python",
   "name": "python3"
  },
  "language_info": {
   "codemirror_mode": {
    "name": "ipython",
    "version": 3
   },
   "file_extension": ".py",
   "mimetype": "text/x-python",
   "name": "python",
   "nbconvert_exporter": "python",
   "pygments_lexer": "ipython3",
   "version": "3.9.23"
  }
 },
 "nbformat": 4,
 "nbformat_minor": 2
}
